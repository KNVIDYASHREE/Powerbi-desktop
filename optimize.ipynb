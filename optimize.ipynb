{
  "nbformat": 4,
  "nbformat_minor": 0,
  "metadata": {
    "colab": {
      "provenance": [],
      "authorship_tag": "ABX9TyP0+lLcgMRZ0lHKJsRAFtoH",
      "include_colab_link": true
    },
    "kernelspec": {
      "name": "python3",
      "display_name": "Python 3"
    },
    "language_info": {
      "name": "python"
    }
  },
  "cells": [
    {
      "cell_type": "markdown",
      "metadata": {
        "id": "view-in-github",
        "colab_type": "text"
      },
      "source": [
        "<a href=\"https://colab.research.google.com/github/KNVIDYASHREE/Powerbi-desktop/blob/main/optimize.ipynb\" target=\"_parent\"><img src=\"https://colab.research.google.com/assets/colab-badge.svg\" alt=\"Open In Colab\"/></a>"
      ]
    },
    {
      "cell_type": "code",
      "execution_count": 1,
      "metadata": {
        "colab": {
          "base_uri": "https://localhost:8080/"
        },
        "id": "H50SBiLcdh0X",
        "outputId": "b02efe87-3a39-43e1-8f00-b49a5095ce0c"
      },
      "outputs": [
        {
          "output_type": "stream",
          "name": "stdout",
          "text": [
            "Optimal number of Basic Kits: 0\n",
            "Optimal number of Advanced Kits: 12\n",
            "Maximum Students Reached: 625\n"
          ]
        }
      ],
      "source": [
        "from scipy.optimize import linprog\n",
        "\n",
        "# Objective function coefficients (negative for maximization)\n",
        "# Basic kit reaches 30 students, Advanced kit reaches 50\n",
        "c = [-30, -50]\n",
        "\n",
        "# Constraints: cost per kit and total budget\n",
        "# Basic kit costs ₹500, Advanced kit costs ₹800\n",
        "A = [[500, 800]]  # Coefficients for budget constraint\n",
        "b = [10000]       # Total budget\n",
        "\n",
        "# Bounds: number of kits must be ≥ 0\n",
        "x_bounds = [(0, None), (0, None)]\n",
        "\n",
        "# Solve the linear program\n",
        "result = linprog(c, A_ub=A, b_ub=b, bounds=x_bounds, method='highs')\n",
        "\n",
        "# Output results\n",
        "basic_kits = int(result.x[0])\n",
        "advanced_kits = int(result.x[1])\n",
        "students_reached = int(-result.fun)\n",
        "\n",
        "print(f\"Optimal number of Basic Kits: {basic_kits}\")\n",
        "print(f\"Optimal number of Advanced Kits: {advanced_kits}\")\n",
        "print(f\"Maximum Students Reached: {students_reached}\")"
      ]
    },
    {
      "cell_type": "code",
      "source": [],
      "metadata": {
        "id": "HPCeSHqmdpEy"
      },
      "execution_count": null,
      "outputs": []
    }
  ]
}